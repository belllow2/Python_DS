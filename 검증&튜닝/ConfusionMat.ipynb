{
 "cells": [
  {
   "cell_type": "code",
   "execution_count": 1,
   "id": "554888ba",
   "metadata": {},
   "outputs": [],
   "source": [
    "import numpy as np\n",
    "import numpy.random as random\n",
    "import scipy as sp\n",
    "from pandas import Series,DataFrame\n",
    "import pandas as pd\n",
    "\n",
    "import matplotlib.pyplot as plt\n",
    "import matplotlib as mpl\n",
    "import seaborn as sns\n",
    "%matplotlib inline\n",
    "%precision 3\n",
    "sns.set()\n",
    "import sklearn\n"
   ]
  },
  {
   "cell_type": "code",
   "execution_count": 5,
   "id": "c449d2e4",
   "metadata": {},
   "outputs": [
    {
     "name": "stdout",
     "output_type": "stream",
     "text": [
      "SVC train score : 0.979\n",
      "SVC test score : 0.937\n"
     ]
    }
   ],
   "source": [
    "from sklearn.svm import SVC\n",
    "from sklearn.datasets import load_breast_cancer\n",
    "from sklearn.model_selection import train_test_split\n",
    "cancer = load_breast_cancer()\n",
    "\n",
    "X_train, X_test, Y_train, Y_test = train_test_split(cancer.data, cancer.target, stratify=cancer.target, random_state=12)\n",
    "\n",
    "model = SVC(gamma=0.001, C=1)\n",
    "model.fit(X_train, Y_train)\n",
    "\n",
    "print('{} train score : {:.3f}'.format(model.__class__.__name__, model.score(X_train,Y_train)))\n",
    "print('{} test score : {:.3f}'.format(model.__class__.__name__, model.score(X_test, Y_test)))"
   ]
  },
  {
   "cell_type": "code",
   "execution_count": 8,
   "id": "2369a0f9",
   "metadata": {},
   "outputs": [
    {
     "name": "stdout",
     "output_type": "stream",
     "text": [
      "Confusion_matrix : \n",
      "[[48  5]\n",
      " [ 4 86]]\n"
     ]
    }
   ],
   "source": [
    "from sklearn.metrics import confusion_matrix\n",
    "\n",
    "y_pred = model.predict(X_test)\n",
    "\n",
    "m = confusion_matrix(Y_test, y_pred)\n",
    "print('Confusion_matrix : \\n{}'.format(m))"
   ]
  },
  {
   "cell_type": "code",
   "execution_count": 9,
   "id": "f0bb51e9",
   "metadata": {},
   "outputs": [
    {
     "name": "stdout",
     "output_type": "stream",
     "text": [
      "accuracy : 0.937\n"
     ]
    }
   ],
   "source": [
    "accuracy = (m[0, 0] + m[1, 1]) / m.sum()\n",
    "print('accuracy : {:.3f}'.format(accuracy))"
   ]
  },
  {
   "cell_type": "code",
   "execution_count": 10,
   "id": "cea524e1",
   "metadata": {},
   "outputs": [
    {
     "name": "stdout",
     "output_type": "stream",
     "text": [
      "정밀도 : 0.945\n",
      "재현도 : 0.956\n",
      "F1 Score : 0.950\n"
     ]
    }
   ],
   "source": [
    "precision = (m[1,1]) / m[:, 1].sum()\n",
    "recall = (m[1,1]) / m[1: ,].sum()\n",
    "\n",
    "f1 = 2 * (precision * recall) / (precision + recall)\n",
    "\n",
    "print('정밀도 : {:.3f}'.format(precision))\n",
    "print('재현도 : {:.3f}'.format(recall))\n",
    "print('F1 Score : {:.3f}'.format(f1))"
   ]
  },
  {
   "cell_type": "code",
   "execution_count": 12,
   "id": "b8eb9ad8",
   "metadata": {},
   "outputs": [
    {
     "name": "stdout",
     "output_type": "stream",
     "text": [
      "정밀도 : 0.945\n",
      "재현도 : 0.956\n",
      "F1 Score : 0.950\n"
     ]
    }
   ],
   "source": [
    "from sklearn.metrics import precision_score, accuracy_score, f1_score, recall_score\n",
    "\n",
    "print('정밀도 : {:.3f}'.format(precision_score(Y_test, y_pred)))\n",
    "print('재현도 : {:.3f}'.format(recall_score(Y_test, y_pred)))\n",
    "print('F1 Score : {:.3f}'.format(f1_score(Y_test, y_pred)))"
   ]
  },
  {
   "cell_type": "code",
   "execution_count": 17,
   "id": "9c913591",
   "metadata": {},
   "outputs": [
    {
     "name": "stdout",
     "output_type": "stream",
     "text": [
      "Confusion Matrix : \n",
      "[[47  6]\n",
      " [ 3 87]]\n",
      "정확도 : 0.937\n",
      "정밀도 : 0.935\n",
      "재현도 : 0.967\n",
      "F1 Score : 0.951\n"
     ]
    }
   ],
   "source": [
    "from sklearn.linear_model import LogisticRegression\n",
    "\n",
    "LR = LogisticRegression(random_state=12, max_iter=2500)\n",
    "LR.fit(X_train,Y_train)\n",
    "\n",
    "y_pred_LR = LR.predict(X_test)\n",
    "\n",
    "print('Confusion Matrix : \\n{}'.format(confusion_matrix(Y_test, y_pred_LR)))\n",
    "print('정확도 : {:.3f}'.format(accuracy_score(Y_test, y_pred_LR)))\n",
    "print('정밀도 : {:.3f}'.format(precision_score(Y_test, y_pred_LR)))\n",
    "print('재현도 : {:.3f}'.format(recall_score(Y_test, y_pred_LR)))\n",
    "print('F1 Score : {:.3f}'.format(f1_score(Y_test, y_pred_LR)))"
   ]
  },
  {
   "cell_type": "code",
   "execution_count": null,
   "id": "d41a2284",
   "metadata": {},
   "outputs": [],
   "source": []
  }
 ],
 "metadata": {
  "kernelspec": {
   "display_name": "Python 3",
   "language": "python",
   "name": "python3"
  },
  "language_info": {
   "codemirror_mode": {
    "name": "ipython",
    "version": 3
   },
   "file_extension": ".py",
   "mimetype": "text/x-python",
   "name": "python",
   "nbconvert_exporter": "python",
   "pygments_lexer": "ipython3",
   "version": "3.8.10"
  }
 },
 "nbformat": 4,
 "nbformat_minor": 5
}
