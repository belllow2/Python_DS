{
 "cells": [
  {
   "cell_type": "code",
   "execution_count": 10,
   "id": "bf422a7a",
   "metadata": {},
   "outputs": [],
   "source": [
    "import numpy as np\n",
    "import numpy.random as random\n",
    "import scipy as sp\n",
    "from pandas import Series,DataFrame\n",
    "import pandas as pd\n",
    "\n",
    "import matplotlib.pyplot as plt\n",
    "import matplotlib as mpl\n",
    "import seaborn as sns\n",
    "%matplotlib inline\n",
    "%precision 3\n",
    "sns.set()\n",
    "import sklearn\n"
   ]
  },
  {
   "cell_type": "code",
   "execution_count": 12,
   "id": "b0230079",
   "metadata": {},
   "outputs": [
    {
     "name": "stdout",
     "output_type": "stream",
     "text": [
      "Cross validation scores : [0.877 0.877 0.895 0.947 0.947 0.877 0.965 0.93  0.93  0.946]\n",
      "Cross validation scores : 0.919 +- 0.032\n"
     ]
    }
   ],
   "source": [
    "from sklearn.datasets import load_breast_cancer\n",
    "from sklearn.tree import DecisionTreeClassifier\n",
    "from sklearn.model_selection import cross_val_score\n",
    "from sklearn.svm import SVC\n",
    "from sklearn.linear_model import LogisticRegression\n",
    "cancer = load_breast_cancer()\n",
    "\n",
    "tree = DecisionTreeClassifier(criterion='entropy', max_depth = 3, random_state=0)\n",
    "SVM = SVC(kernel='rbf', random_state=12, C=8)\n",
    "LR = LogisticRegression()\n",
    "\n",
    "scores = cross_val_score(SVM, cancer.data, cancer.target, cv = 10)\n",
    "print('Cross validation scores : {}'.format(scores))\n",
    "print('Cross validation scores : {:.3f} +- {:.3f}'.format(scores.mean(), scores.std()))"
   ]
  },
  {
   "cell_type": "code",
   "execution_count": 13,
   "id": "77fab4d3",
   "metadata": {},
   "outputs": [
    {
     "name": "stdout",
     "output_type": "stream",
     "text": [
      "최고 점수 : 0.94\n",
      "최고 점수에서의 하이퍼파라미터(gamma, C) : (0.001, 1.0)\n"
     ]
    },
    {
     "data": {
      "text/plain": [
       "<AxesSubplot:>"
      ]
     },
     "execution_count": 13,
     "metadata": {},
     "output_type": "execute_result"
    },
    {
     "data": {
      "image/png": "[encoded data removed]",
      "text/plain": [
       "<Figure size 432x288 with 2 Axes>"
      ]
     },
     "metadata": {},
     "output_type": "display_data"
    }
   ],
   "source": [
    "from sklearn.model_selection import train_test_split\n",
    "\n",
    "X_train, X_test, Y_train, Y_test = train_test_split(cancer.data, cancer.target, stratify=cancer.target, random_state=12)\n",
    "\n",
    "scores = {}\n",
    "for gamma in np.logspace(-3, 2, num=6):\n",
    "    for C in np.logspace(-3, 2, num=6):\n",
    "        svm = SVC(gamma=gamma, C=C)\n",
    "        svm.fit(X_train, Y_train)\n",
    "        scores[(gamma, C)] = svm.score(X_test, Y_test)\n",
    "        \n",
    "scores = pd.Series(scores)\n",
    "\n",
    "print('최고 점수 : {:.2f}'.format(scores.max()))\n",
    "print('최고 점수에서의 하이퍼파라미터(gamma, C) : {}'.format(scores.idxmax()))\n",
    "\n",
    "sns.heatmap(scores.unstack())"
   ]
  },
  {
   "cell_type": "code",
   "execution_count": 19,
   "id": "bbddc39c",
   "metadata": {},
   "outputs": [
    {
     "name": "stdout",
     "output_type": "stream",
     "text": [
      "Best cross validation score : 0.944\n",
      "Best parameters : {'max_depth': 3, 'min_samples_leaf': 4}\n",
      "Test score : 0.916\n"
     ]
    }
   ],
   "source": [
    "from sklearn.model_selection import GridSearchCV\n",
    "\n",
    "param_SVM_grid = { 'C' : np.logspace(-3, 2, num=6),\n",
    "                         'gamma' : np.logspace(-3, 2, num=6)}\n",
    "param_TREE_grid = {'max_depth' : [2,3,4,5,10], 'min_samples_leaf' : [2,3,4,5,10]}\n",
    "gs = GridSearchCV(estimator=SVC(), param_grid=param_SVM_grid, cv=5)\n",
    "tree = GridSearchCV(DecisionTreeClassifier(random_state=12,criterion='entropy'), param_grid = param_TREE_grid)\n",
    "\n",
    "tree.fit(X_train, Y_train)\n",
    "\n",
    "print('Best cross validation score : {:.3f}'.format(tree.best_score_))\n",
    "print('Best parameters : {}'.format(tree.best_params_))\n",
    "print('Test score : {:.3f}'.format(tree.score(X_test,Y_test)))"
   ]
  },
  {
   "cell_type": "code",
   "execution_count": null,
   "id": "4b5fb667",
   "metadata": {},
   "outputs": [],
   "source": []
  }
 ],
 "metadata": {
  "kernelspec": {
   "display_name": "Python 3",
   "language": "python",
   "name": "python3"
  },
  "language_info": {
   "codemirror_mode": {
    "name": "ipython",
    "version": 3
   },
   "file_extension": ".py",
   "mimetype": "text/x-python",
   "name": "python",
   "nbconvert_exporter": "python",
   "pygments_lexer": "ipython3",
   "version": "3.8.10"
  }
 },
 "nbformat": 4,
 "nbformat_minor": 5
}
