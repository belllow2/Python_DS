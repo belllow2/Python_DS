{
 "cells": [
  {
   "cell_type": "code",
   "execution_count": 6,
   "id": "57a5b9ed",
   "metadata": {},
   "outputs": [
    {
     "data": {
      "text/html": [
       "<div>\n",
       "<style scoped>\n",
       "    .dataframe tbody tr th:only-of-type {\n",
       "        vertical-align: middle;\n",
       "    }\n",
       "\n",
       "    .dataframe tbody tr th {\n",
       "        vertical-align: top;\n",
       "    }\n",
       "\n",
       "    .dataframe thead th {\n",
       "        text-align: right;\n",
       "    }\n",
       "</style>\n",
       "<table border=\"1\" class=\"dataframe\">\n",
       "  <thead>\n",
       "    <tr style=\"text-align: right;\">\n",
       "      <th></th>\n",
       "      <th>test</th>\n",
       "      <th>train</th>\n",
       "    </tr>\n",
       "  </thead>\n",
       "  <tbody>\n",
       "    <tr>\n",
       "      <th>Knn</th>\n",
       "      <td>0.965035</td>\n",
       "      <td>0.967136</td>\n",
       "    </tr>\n",
       "    <tr>\n",
       "      <th>Logistic</th>\n",
       "      <td>0.986014</td>\n",
       "      <td>0.988263</td>\n",
       "    </tr>\n",
       "    <tr>\n",
       "      <th>SVC1</th>\n",
       "      <td>0.972028</td>\n",
       "      <td>0.988263</td>\n",
       "    </tr>\n",
       "    <tr>\n",
       "      <th>SVC2</th>\n",
       "      <td>0.958042</td>\n",
       "      <td>0.985915</td>\n",
       "    </tr>\n",
       "    <tr>\n",
       "      <th>Tree</th>\n",
       "      <td>0.888112</td>\n",
       "      <td>1.000000</td>\n",
       "    </tr>\n",
       "  </tbody>\n",
       "</table>\n",
       "</div>"
      ],
      "text/plain": [
       "              test     train\n",
       "Knn       0.965035  0.967136\n",
       "Logistic  0.986014  0.988263\n",
       "SVC1      0.972028  0.988263\n",
       "SVC2      0.958042  0.985915\n",
       "Tree      0.888112  1.000000"
      ]
     },
     "execution_count": 6,
     "metadata": {},
     "output_type": "execute_result"
    }
   ],
   "source": [
    "from sklearn.neighbors import KNeighborsClassifier\n",
    "from sklearn.linear_model import LogisticRegression\n",
    "from sklearn.svm import SVC, LinearSVC\n",
    "from sklearn.tree import DecisionTreeClassifier\n",
    "from sklearn.datasets import load_breast_cancer\n",
    "from sklearn.model_selection import train_test_split\n",
    "from sklearn.preprocessing import StandardScaler\n",
    "import pandas as pd\n",
    "cancer = load_breast_cancer()\n",
    "X_train, X_test, Y_train, Y_test = train_test_split(cancer.data, cancer.target, stratify=cancer.target, random_state = 12)\n",
    "\n",
    "sc = StandardScaler()\n",
    "sc.fit(X_train)\n",
    "X_train_std = sc.transform(X_train)\n",
    "X_test_std = sc.transform(X_test)\n",
    "\n",
    "models = {\n",
    "    'Knn' : KNeighborsClassifier(),\n",
    "    'Tree' : DecisionTreeClassifier(random_state = 12),\n",
    "    'Logistic' : LogisticRegression(random_state = 12),\n",
    "    'SVC1' : LinearSVC(random_state = 12),\n",
    "    'SVC2' : SVC(random_state = 12)\n",
    "}\n",
    "\n",
    "scores = {}\n",
    "\n",
    "for model_name, model in models.items():\n",
    "    model.fit(X_train_std, Y_train)\n",
    "    scores[(model_name, 'train')] = model.score(X_train_std, Y_train)\n",
    "    scores[(model_name, 'test')] = model.score(X_test_std, Y_test)\n",
    "    \n",
    "pd.Series(scores).unstack()"
   ]
  },
  {
   "cell_type": "code",
   "execution_count": null,
   "id": "2b166515",
   "metadata": {},
   "outputs": [],
   "source": []
  }
 ],
 "metadata": {
  "kernelspec": {
   "display_name": "Python 3",
   "language": "python",
   "name": "python3"
  },
  "language_info": {
   "codemirror_mode": {
    "name": "ipython",
    "version": 3
   },
   "file_extension": ".py",
   "mimetype": "text/x-python",
   "name": "python",
   "nbconvert_exporter": "python",
   "pygments_lexer": "ipython3",
   "version": "3.8.10"
  }
 },
 "nbformat": 4,
 "nbformat_minor": 5
}
