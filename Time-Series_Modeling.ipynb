{
 "cells": [
  {
   "cell_type": "code",
   "execution_count": 3,
   "id": "57252267",
   "metadata": {},
   "outputs": [],
   "source": [
    "from sklearn.preprocessing import StandardScaler\n",
    "from sklearn.linear_model import LogisticRegression\n",
    "from sklearn.metrics import confusion_matrix\n",
    "from sklearn.model_selection import train_test_split\n",
    "from sklearn.datasets import load_breast_cancer\n",
    "import pandas as pd\n",
    "import pandas_datareader as pdr"
   ]
  },
  {
   "cell_type": "code",
   "execution_count": 12,
   "id": "8e99f2c4",
   "metadata": {},
   "outputs": [],
   "source": [
    "start_date = '2001-01-02'\n",
    "end_date = '2016-12-30'\n",
    "\n",
    "fx_jpusdata = pdr.DataReader(\"DEXJPUS\", \"fred\", start_date, end_date)\n",
    "fx_useudata = pdr.DataReader(\"DEXUSEU\", \"fred\", start_date, end_date)"
   ]
  },
  {
   "cell_type": "code",
   "execution_count": 13,
   "id": "d1200f51",
   "metadata": {},
   "outputs": [
    {
     "data": {
      "text/html": [
       "<div>\n",
       "<style scoped>\n",
       "    .dataframe tbody tr th:only-of-type {\n",
       "        vertical-align: middle;\n",
       "    }\n",
       "\n",
       "    .dataframe tbody tr th {\n",
       "        vertical-align: top;\n",
       "    }\n",
       "\n",
       "    .dataframe thead th {\n",
       "        text-align: right;\n",
       "    }\n",
       "</style>\n",
       "<table border=\"1\" class=\"dataframe\">\n",
       "  <thead>\n",
       "    <tr style=\"text-align: right;\">\n",
       "      <th></th>\n",
       "      <th>DEXJPUS</th>\n",
       "    </tr>\n",
       "    <tr>\n",
       "      <th>DATE</th>\n",
       "      <th></th>\n",
       "    </tr>\n",
       "  </thead>\n",
       "  <tbody>\n",
       "    <tr>\n",
       "      <th>2001-01-02</th>\n",
       "      <td>114.73</td>\n",
       "    </tr>\n",
       "    <tr>\n",
       "      <th>2001-01-03</th>\n",
       "      <td>114.26</td>\n",
       "    </tr>\n",
       "    <tr>\n",
       "      <th>2001-01-04</th>\n",
       "      <td>115.47</td>\n",
       "    </tr>\n",
       "    <tr>\n",
       "      <th>2001-01-05</th>\n",
       "      <td>116.19</td>\n",
       "    </tr>\n",
       "    <tr>\n",
       "      <th>2001-01-08</th>\n",
       "      <td>115.97</td>\n",
       "    </tr>\n",
       "    <tr>\n",
       "      <th>...</th>\n",
       "      <td>...</td>\n",
       "    </tr>\n",
       "    <tr>\n",
       "      <th>2016-12-26</th>\n",
       "      <td>NaN</td>\n",
       "    </tr>\n",
       "    <tr>\n",
       "      <th>2016-12-27</th>\n",
       "      <td>117.52</td>\n",
       "    </tr>\n",
       "    <tr>\n",
       "      <th>2016-12-28</th>\n",
       "      <td>117.66</td>\n",
       "    </tr>\n",
       "    <tr>\n",
       "      <th>2016-12-29</th>\n",
       "      <td>116.32</td>\n",
       "    </tr>\n",
       "    <tr>\n",
       "      <th>2016-12-30</th>\n",
       "      <td>116.78</td>\n",
       "    </tr>\n",
       "  </tbody>\n",
       "</table>\n",
       "<p>4174 rows × 1 columns</p>\n",
       "</div>"
      ],
      "text/plain": [
       "            DEXJPUS\n",
       "DATE               \n",
       "2001-01-02   114.73\n",
       "2001-01-03   114.26\n",
       "2001-01-04   115.47\n",
       "2001-01-05   116.19\n",
       "2001-01-08   115.97\n",
       "...             ...\n",
       "2016-12-26      NaN\n",
       "2016-12-27   117.52\n",
       "2016-12-28   117.66\n",
       "2016-12-29   116.32\n",
       "2016-12-30   116.78\n",
       "\n",
       "[4174 rows x 1 columns]"
      ]
     },
     "execution_count": 13,
     "metadata": {},
     "output_type": "execute_result"
    }
   ],
   "source": [
    "fx_jpusdata"
   ]
  },
  {
   "cell_type": "code",
   "execution_count": 18,
   "id": "5a10afc8",
   "metadata": {},
   "outputs": [],
   "source": [
    "fx_jpusdata = fx_jpusdata.fillna(method=\"ffill\")\n",
    "fx_useudata = fx_useudata.fillna(method=\"ffill\")"
   ]
  },
  {
   "cell_type": "code",
   "execution_count": 23,
   "id": "2fcc058e",
   "metadata": {},
   "outputs": [
    {
     "data": {
      "text/plain": [
       "DEXJPUS    0\n",
       "dtype: int64"
      ]
     },
     "execution_count": 23,
     "metadata": {},
     "output_type": "execute_result"
    }
   ],
   "source": [
    "fx_jpusdata.isnull().sum()"
   ]
  },
  {
   "cell_type": "code",
   "execution_count": 24,
   "id": "f9ea19cd",
   "metadata": {},
   "outputs": [
    {
     "data": {
      "text/plain": [
       "DEXUSEU    0\n",
       "dtype: int64"
      ]
     },
     "execution_count": 24,
     "metadata": {},
     "output_type": "execute_result"
    }
   ],
   "source": [
    "fx_useudata.isnull().sum()"
   ]
  },
  {
   "cell_type": "code",
   "execution_count": 27,
   "id": "d6e85e22",
   "metadata": {},
   "outputs": [
    {
     "name": "stdout",
     "output_type": "stream",
     "text": [
      "           DEXJPUS\n",
      "count  4174.000000\n",
      "mean    105.775220\n",
      "std      14.612526\n",
      "min      75.720000\n",
      "25%      95.365000\n",
      "50%     108.105000\n",
      "75%     118.195000\n",
      "max     134.770000\n",
      "           DEXUSEU\n",
      "count  4174.000000\n",
      "mean      1.239633\n",
      "std       0.165265\n",
      "min       0.837000\n",
      "25%       1.128100\n",
      "50%       1.274700\n",
      "75%       1.352575\n",
      "max       1.601000\n"
     ]
    }
   ],
   "source": [
    "print(fx_jpusdata.describe())\n",
    "print(fx_useudata.describe())"
   ]
  },
  {
   "cell_type": "code",
   "execution_count": 29,
   "id": "019674c8",
   "metadata": {},
   "outputs": [
    {
     "data": {
      "text/plain": [
       "<AxesSubplot:xlabel='DATE'>"
      ]
     },
     "execution_count": 29,
     "metadata": {},
     "output_type": "execute_result"
    },
    {
     "data": {
      "image/png": "[encoded data removed]",
      "text/plain": [
       "<Figure size 432x288 with 1 Axes>"
      ]
     },
     "metadata": {
      "needs_background": "light"
     },
     "output_type": "display_data"
    },
    {
     "data": {
      "image/png": "[encoded data removed]",
      "text/plain": [
       "<Figure size 432x288 with 1 Axes>"
      ]
     },
     "metadata": {
      "needs_background": "light"
     },
     "output_type": "display_data"
    }
   ],
   "source": [
    "fx_jpusdata.plot()\n",
    "fx_useudata.plot()"
   ]
  },
  {
   "cell_type": "code",
   "execution_count": 36,
   "id": "bf7d434e",
   "metadata": {},
   "outputs": [
    {
     "data": {
      "text/plain": [
       "array([[<AxesSubplot:title={'center':'DEXUSEU'}>]], dtype=object)"
      ]
     },
     "execution_count": 36,
     "metadata": {},
     "output_type": "execute_result"
    },
    {
     "data": {
      "image/png": "[encoded data removed]",
      "text/plain": [
       "<Figure size 432x288 with 1 Axes>"
      ]
     },
     "metadata": {
      "needs_background": "light"
     },
     "output_type": "display_data"
    },
    {
     "data": {
      "image/png": "[encoded data removed]",
      "text/plain": [
       "<Figure size 432x288 with 1 Axes>"
      ]
     },
     "metadata": {
      "needs_background": "light"
     },
     "output_type": "display_data"
    }
   ],
   "source": [
    "fx_jpusdata_r = (fx_jpusdata - fx_jpusdata.shift(1)) / fx_jpusdata.shift(1)\n",
    "fx_useudata_r = (fx_useudata - fx_useudata.shift(1)) / fx_useudata.shift(1)\n",
    "\n",
    "fx_jpusdata_r.hist(bins=30)\n",
    "fx_useudata_r.hist(bins=30)"
   ]
  },
  {
   "cell_type": "code",
   "execution_count": 39,
   "id": "3f795c57",
   "metadata": {},
   "outputs": [
    {
     "data": {
      "text/html": [
       "<div>\n",
       "<style scoped>\n",
       "    .dataframe tbody tr th:only-of-type {\n",
       "        vertical-align: middle;\n",
       "    }\n",
       "\n",
       "    .dataframe tbody tr th {\n",
       "        vertical-align: top;\n",
       "    }\n",
       "\n",
       "    .dataframe thead th {\n",
       "        text-align: right;\n",
       "    }\n",
       "</style>\n",
       "<table border=\"1\" class=\"dataframe\">\n",
       "  <thead>\n",
       "    <tr style=\"text-align: right;\">\n",
       "      <th></th>\n",
       "      <th>Today</th>\n",
       "      <th>Pre_1</th>\n",
       "      <th>Pre_2</th>\n",
       "      <th>Pre_3</th>\n",
       "    </tr>\n",
       "    <tr>\n",
       "      <th>DATE</th>\n",
       "      <th></th>\n",
       "      <th></th>\n",
       "      <th></th>\n",
       "      <th></th>\n",
       "    </tr>\n",
       "  </thead>\n",
       "  <tbody>\n",
       "    <tr>\n",
       "      <th>2001-01-02</th>\n",
       "      <td>114.73</td>\n",
       "      <td>NaN</td>\n",
       "      <td>NaN</td>\n",
       "      <td>NaN</td>\n",
       "    </tr>\n",
       "    <tr>\n",
       "      <th>2001-01-03</th>\n",
       "      <td>114.26</td>\n",
       "      <td>114.73</td>\n",
       "      <td>NaN</td>\n",
       "      <td>NaN</td>\n",
       "    </tr>\n",
       "    <tr>\n",
       "      <th>2001-01-04</th>\n",
       "      <td>115.47</td>\n",
       "      <td>114.26</td>\n",
       "      <td>114.73</td>\n",
       "      <td>NaN</td>\n",
       "    </tr>\n",
       "    <tr>\n",
       "      <th>2001-01-05</th>\n",
       "      <td>116.19</td>\n",
       "      <td>115.47</td>\n",
       "      <td>114.26</td>\n",
       "      <td>114.73</td>\n",
       "    </tr>\n",
       "    <tr>\n",
       "      <th>2001-01-08</th>\n",
       "      <td>115.97</td>\n",
       "      <td>116.19</td>\n",
       "      <td>115.47</td>\n",
       "      <td>114.26</td>\n",
       "    </tr>\n",
       "    <tr>\n",
       "      <th>...</th>\n",
       "      <td>...</td>\n",
       "      <td>...</td>\n",
       "      <td>...</td>\n",
       "      <td>...</td>\n",
       "    </tr>\n",
       "    <tr>\n",
       "      <th>2016-12-26</th>\n",
       "      <td>117.22</td>\n",
       "      <td>117.22</td>\n",
       "      <td>117.48</td>\n",
       "      <td>117.79</td>\n",
       "    </tr>\n",
       "    <tr>\n",
       "      <th>2016-12-27</th>\n",
       "      <td>117.52</td>\n",
       "      <td>117.22</td>\n",
       "      <td>117.22</td>\n",
       "      <td>117.48</td>\n",
       "    </tr>\n",
       "    <tr>\n",
       "      <th>2016-12-28</th>\n",
       "      <td>117.66</td>\n",
       "      <td>117.52</td>\n",
       "      <td>117.22</td>\n",
       "      <td>117.22</td>\n",
       "    </tr>\n",
       "    <tr>\n",
       "      <th>2016-12-29</th>\n",
       "      <td>116.32</td>\n",
       "      <td>117.66</td>\n",
       "      <td>117.52</td>\n",
       "      <td>117.22</td>\n",
       "    </tr>\n",
       "    <tr>\n",
       "      <th>2016-12-30</th>\n",
       "      <td>116.78</td>\n",
       "      <td>116.32</td>\n",
       "      <td>117.66</td>\n",
       "      <td>117.52</td>\n",
       "    </tr>\n",
       "  </tbody>\n",
       "</table>\n",
       "<p>4174 rows × 4 columns</p>\n",
       "</div>"
      ],
      "text/plain": [
       "             Today   Pre_1   Pre_2   Pre_3\n",
       "DATE                                      \n",
       "2001-01-02  114.73     NaN     NaN     NaN\n",
       "2001-01-03  114.26  114.73     NaN     NaN\n",
       "2001-01-04  115.47  114.26  114.73     NaN\n",
       "2001-01-05  116.19  115.47  114.26  114.73\n",
       "2001-01-08  115.97  116.19  115.47  114.26\n",
       "...            ...     ...     ...     ...\n",
       "2016-12-26  117.22  117.22  117.48  117.79\n",
       "2016-12-27  117.52  117.22  117.22  117.48\n",
       "2016-12-28  117.66  117.52  117.22  117.22\n",
       "2016-12-29  116.32  117.66  117.52  117.22\n",
       "2016-12-30  116.78  116.32  117.66  117.52\n",
       "\n",
       "[4174 rows x 4 columns]"
      ]
     },
     "execution_count": 39,
     "metadata": {},
     "output_type": "execute_result"
    }
   ],
   "source": [
    "merge_data_jpusdata = pd.concat([fx_jpusdata, fx_jpusdata.shift(1), fx_jpusdata.shift(2), fx_jpusdata.shift(3)], axis=1)\n",
    "merge_data_jpusdata.columns = ['Today', 'Pre_1', 'Pre_2', 'Pre_3']\n",
    "merge_data_jpusdata"
   ]
  },
  {
   "cell_type": "code",
   "execution_count": 40,
   "id": "1dc3e0a8",
   "metadata": {},
   "outputs": [],
   "source": [
    "merge_data_jpusdata_noNaN = merge_data_jpusdata.dropna()"
   ]
  },
  {
   "cell_type": "code",
   "execution_count": 42,
   "id": "dd432403",
   "metadata": {},
   "outputs": [
    {
     "data": {
      "text/html": [
       "<div>\n",
       "<style scoped>\n",
       "    .dataframe tbody tr th:only-of-type {\n",
       "        vertical-align: middle;\n",
       "    }\n",
       "\n",
       "    .dataframe tbody tr th {\n",
       "        vertical-align: top;\n",
       "    }\n",
       "\n",
       "    .dataframe thead th {\n",
       "        text-align: right;\n",
       "    }\n",
       "</style>\n",
       "<table border=\"1\" class=\"dataframe\">\n",
       "  <thead>\n",
       "    <tr style=\"text-align: right;\">\n",
       "      <th></th>\n",
       "      <th>Today</th>\n",
       "      <th>Pre_1</th>\n",
       "      <th>Pre_2</th>\n",
       "      <th>Pre_3</th>\n",
       "    </tr>\n",
       "    <tr>\n",
       "      <th>DATE</th>\n",
       "      <th></th>\n",
       "      <th></th>\n",
       "      <th></th>\n",
       "      <th></th>\n",
       "    </tr>\n",
       "  </thead>\n",
       "  <tbody>\n",
       "    <tr>\n",
       "      <th>2001-01-05</th>\n",
       "      <td>116.19</td>\n",
       "      <td>115.47</td>\n",
       "      <td>114.26</td>\n",
       "      <td>114.73</td>\n",
       "    </tr>\n",
       "    <tr>\n",
       "      <th>2001-01-08</th>\n",
       "      <td>115.97</td>\n",
       "      <td>116.19</td>\n",
       "      <td>115.47</td>\n",
       "      <td>114.26</td>\n",
       "    </tr>\n",
       "    <tr>\n",
       "      <th>2001-01-09</th>\n",
       "      <td>116.64</td>\n",
       "      <td>115.97</td>\n",
       "      <td>116.19</td>\n",
       "      <td>115.47</td>\n",
       "    </tr>\n",
       "    <tr>\n",
       "      <th>2001-01-10</th>\n",
       "      <td>116.26</td>\n",
       "      <td>116.64</td>\n",
       "      <td>115.97</td>\n",
       "      <td>116.19</td>\n",
       "    </tr>\n",
       "    <tr>\n",
       "      <th>2001-01-11</th>\n",
       "      <td>117.56</td>\n",
       "      <td>116.26</td>\n",
       "      <td>116.64</td>\n",
       "      <td>115.97</td>\n",
       "    </tr>\n",
       "  </tbody>\n",
       "</table>\n",
       "</div>"
      ],
      "text/plain": [
       "             Today   Pre_1   Pre_2   Pre_3\n",
       "DATE                                      \n",
       "2001-01-05  116.19  115.47  114.26  114.73\n",
       "2001-01-08  115.97  116.19  115.47  114.26\n",
       "2001-01-09  116.64  115.97  116.19  115.47\n",
       "2001-01-10  116.26  116.64  115.97  116.19\n",
       "2001-01-11  117.56  116.26  116.64  115.97"
      ]
     },
     "execution_count": 42,
     "metadata": {},
     "output_type": "execute_result"
    }
   ],
   "source": [
    "merge_data_jpusdata_noNaN.head()"
   ]
  },
  {
   "cell_type": "code",
   "execution_count": 44,
   "id": "5c1b2264",
   "metadata": {},
   "outputs": [
    {
     "name": "stdout",
     "output_type": "stream",
     "text": [
      "['Pre_1']\n",
      "Train :  LinearRegression 0.9493027692165823\n",
      "Test :  LinearRegression 0.5687852242036819\n",
      "['Pre_1', 'Pre_2']\n",
      "Train :  LinearRegression 0.9494020654841921\n",
      "Test :  LinearRegression 0.5627029016415769\n",
      "['Pre_1', 'Pre_2', 'Pre_3']\n",
      "Train :  LinearRegression 0.9509299545649988\n",
      "Test :  LinearRegression 0.540438952076512\n"
     ]
    },
    {
     "name": "stderr",
     "output_type": "stream",
     "text": [
      "<ipython-input-44-61ec33cb078f>:13: FutureWarning: Indexing a DataFrame with a datetimelike index using a single string to slice the rows, like `frame[string]`, is deprecated and will be removed in a future version. Use `frame.loc[string]` instead.\n",
      "  train = merge_data_jpusdata_noNaN[pre_term]\n",
      "<ipython-input-44-61ec33cb078f>:17: FutureWarning: Indexing a DataFrame with a datetimelike index using a single string to slice the rows, like `frame[string]`, is deprecated and will be removed in a future version. Use `frame.loc[string]` instead.\n",
      "  test = merge_data_jpusdata_noNaN[pos_term]\n",
      "<ipython-input-44-61ec33cb078f>:13: FutureWarning: Indexing a DataFrame with a datetimelike index using a single string to slice the rows, like `frame[string]`, is deprecated and will be removed in a future version. Use `frame.loc[string]` instead.\n",
      "  train = merge_data_jpusdata_noNaN[pre_term]\n",
      "<ipython-input-44-61ec33cb078f>:17: FutureWarning: Indexing a DataFrame with a datetimelike index using a single string to slice the rows, like `frame[string]`, is deprecated and will be removed in a future version. Use `frame.loc[string]` instead.\n",
      "  test = merge_data_jpusdata_noNaN[pos_term]\n",
      "<ipython-input-44-61ec33cb078f>:13: FutureWarning: Indexing a DataFrame with a datetimelike index using a single string to slice the rows, like `frame[string]`, is deprecated and will be removed in a future version. Use `frame.loc[string]` instead.\n",
      "  train = merge_data_jpusdata_noNaN[pre_term]\n",
      "<ipython-input-44-61ec33cb078f>:17: FutureWarning: Indexing a DataFrame with a datetimelike index using a single string to slice the rows, like `frame[string]`, is deprecated and will be removed in a future version. Use `frame.loc[string]` instead.\n",
      "  test = merge_data_jpusdata_noNaN[pos_term]\n"
     ]
    }
   ],
   "source": [
    "from datetime import datetime, date, timedelta\n",
    "from dateutil.relativedelta import relativedelta\n",
    "\n",
    "from sklearn import linear_model\n",
    "\n",
    "l_model = linear_model.LinearRegression()\n",
    "\n",
    "pre_term = '2016-11'\n",
    "pos_term = '2016-12'\n",
    "\n",
    "for pre_list in (['Pre_1'], ['Pre_1', 'Pre_2'], ['Pre_1', 'Pre_2', 'Pre_3']):\n",
    "    print(pre_list)\n",
    "    train = merge_data_jpusdata_noNaN[pre_term]\n",
    "    X_train = pd.DataFrame(train[pre_list])\n",
    "    Y_train = train['Today']\n",
    "    \n",
    "    test = merge_data_jpusdata_noNaN[pos_term]\n",
    "    X_test = pd.DataFrame(test[pre_list])\n",
    "    Y_test = test['Today']\n",
    "    \n",
    "    fit_model = l_model.fit(X_train, Y_train)\n",
    "    print('Train : ', fit_model.__class__.__name__, fit_model.score(X_train, Y_train))\n",
    "    print('Test : ', fit_model.__class__.__name__, fit_model.score(X_test, Y_test))"
   ]
  },
  {
   "cell_type": "code",
   "execution_count": null,
   "id": "593346b7",
   "metadata": {},
   "outputs": [],
   "source": []
  }
 ],
 "metadata": {
  "kernelspec": {
   "display_name": "Python 3",
   "language": "python",
   "name": "python3"
  },
  "language_info": {
   "codemirror_mode": {
    "name": "ipython",
    "version": 3
   },
   "file_extension": ".py",
   "mimetype": "text/x-python",
   "name": "python",
   "nbconvert_exporter": "python",
   "pygments_lexer": "ipython3",
   "version": "3.8.10"
  }
 },
 "nbformat": 4,
 "nbformat_minor": 5
}
